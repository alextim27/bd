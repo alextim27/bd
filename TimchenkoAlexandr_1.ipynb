{
 "cells": [
  {
   "cell_type": "markdown",
   "metadata": {},
   "source": [
    "Вначале было довольно много экспериментов с использованием l1 и l2 регуляризаций (перебор руками в пределах 1e-9 : 1e-6), которые не привели к значительным успехам (результат на тесте был больше 0.39), поэтому даже графики рисовать не стал. \n",
    "\n",
    "Затем я одновременно добавил два параметра:\n",
    "-q ff \n",
    "--ftrl, которые в совокупности сразу дали ощутимый результат"
   ]
  },
  {
   "cell_type": "code",
   "execution_count": 11,
   "metadata": {
    "collapsed": false
   },
   "outputs": [
    {
     "name": "stdout",
     "output_type": "stream",
     "text": [
      "creating quadratic features for pairs: ff \n",
      "final_regressor = lm.model\n",
      "Enabling FTRL based optimization\n",
      "Algorithm used: Proximal-FTRL\n",
      "ftrl_alpha = 0.005\n",
      "ftrl_beta = 0.1\n",
      "Num weight bits = 30\n",
      "learning rate = 0.5\n",
      "initial_t = 0\n",
      "power_t = 0.5\n",
      "using no cache\n",
      "Reading datafile = train.split.vw\n",
      "num sources = 1\n",
      "average  since         example        example  current  current  current\n",
      "loss     last          counter         weight    label  predict features\n",
      "0.693147 0.693147            1            1.0  -1.0000   0.0000      325\n",
      "0.571287 0.449427            2            2.0  -1.0000  -0.5667      325\n",
      "0.766104 0.960921            4            4.0  -1.0000  -0.3883      325\n",
      "0.669030 0.571955            8            8.0  -1.0000  -0.6733      325\n",
      "0.602868 0.536707           16           16.0  -1.0000  -1.0404      325\n",
      "0.589184 0.575500           32           32.0   1.0000  -0.8799      325\n",
      "0.496034 0.402884           64           64.0  -1.0000  -1.5533      325\n",
      "0.463791 0.431547          128          128.0  -1.0000  -1.4667      325\n",
      "0.495888 0.527986          256          256.0  -1.0000  -1.0026      325\n",
      "0.463125 0.430361          512          512.0   1.0000  -2.0693      325\n",
      "0.451685 0.440245         1024         1024.0  -1.0000  -3.1030      325\n",
      "0.464525 0.477365         2048         2048.0   1.0000  -1.6210      325\n",
      "0.464936 0.465347         4096         4096.0   1.0000  -1.7214      325\n",
      "0.474145 0.483355         8192         8192.0  -1.0000  -2.3887      325\n",
      "0.464003 0.453861        16384        16384.0   1.0000  -1.0871      325\n",
      "0.456674 0.449345        32768        32768.0  -1.0000  -2.2687      325\n",
      "0.445918 0.435162        65536        65536.0  -1.0000  -2.9506      325\n",
      "0.438978 0.432038       131072       131072.0  -1.0000  -2.3938      325\n",
      "0.431879 0.424781       262144       262144.0  -1.0000  -3.3969      325\n",
      "0.425513 0.419147       524288       524288.0  -1.0000  -2.3122      325\n",
      "0.413515 0.401517      1048576      1048576.0  -1.0000  -0.2414      325\n",
      "0.409382 0.405249      2097152      2097152.0  -1.0000  -0.8186      325\n",
      "0.405557 0.401732      4194304      4194304.0  -1.0000  -0.7925      325\n",
      "0.391744 0.377931      8388608      8388608.0  -1.0000  -1.9087      325\n",
      "\n",
      "finished run\n",
      "number of examples = 9776888\n",
      "weighted example sum = 9776888.000000\n",
      "weighted label sum = -6427028.000000\n",
      "average loss = 0.385851\n",
      "best constant = -1.576334\n",
      "best constant's loss = 0.457966\n",
      "total feature number = 3177488600\n"
     ]
    }
   ],
   "source": [
    "! vw -d train.split.vw -q ff --ftrl --loss_function=logistic -b 30 -f lm.model "
   ]
  },
  {
   "cell_type": "code",
   "execution_count": 13,
   "metadata": {
    "collapsed": false
   },
   "outputs": [
    {
     "name": "stdout",
     "output_type": "stream",
     "text": [
      "creating quadratic features for pairs: ff \n",
      "only testing\n",
      "predictions = predictions.txt\n",
      "Enabling FTRL based optimization\n",
      "Algorithm used: Proximal-FTRL\n",
      "ftrl_alpha = 0.005\n",
      "ftrl_beta = 0.1\n",
      "Num weight bits = 30\n",
      "learning rate = 0.5\n",
      "initial_t = 0\n",
      "power_t = 0.5\n",
      "using no cache\n",
      "Reading datafile = test.split.vw\n",
      "num sources = 1\n",
      "average  since         example        example  current  current  current\n",
      "loss     last          counter         weight    label  predict features\n",
      "0.094353 0.094353            1            5.0  -1.0000  -2.3132      325\n",
      "0.201793 0.291326            3           11.0  -1.0000  -3.9166      325\n",
      "0.274613 0.328014            6           26.0  -1.0000  -0.6850      325\n",
      "0.249857 0.225101           12           52.0  -1.0000  -1.6064      325\n",
      "0.224327 0.200620           24          108.0  -1.0000  -4.3873      325\n",
      "0.162423 0.102730           48          220.0  -1.0000  -1.0656      325\n",
      "0.174465 0.186506          100          440.0  -1.0000  -1.6211      325\n",
      "0.176605 0.178735          198          882.0  -1.0000  -2.6280      325\n",
      "0.189508 0.202352          400         1768.0  -1.0000  -1.0782      325\n",
      "0.198920 0.208323          818         3538.0  -1.0000  -4.0128      325\n",
      "0.195241 0.191564         1610         7078.0  -1.0000  -2.8841      325\n",
      "0.191701 0.188160         3208        14156.0  -1.0000  -3.4796      325\n",
      "0.191492 0.191284         6420        28312.0  -1.0000  -1.8177      325\n",
      "0.191395 0.191298        12803        56627.0  -1.0000  -1.3936      325\n",
      "0.190806 0.190217        25611       113255.0  -1.0000  -2.8228      325\n",
      "0.189353 0.187901        51198       226510.0  -1.0000  -2.4166      325\n",
      "0.195224 0.201094       102574       453022.0  -1.0000  -0.9468      325\n",
      "0.226710 0.258195       207080       906048.0  -1.0000  -0.6684      325\n",
      "0.242378 0.258047       416295      1812099.0  -1.0000  -1.8146      325\n",
      "0.248273 0.254167       832411      3624199.0  -1.0000  -1.8263      325\n",
      "0.260880 0.273487      1652894      7248398.0   1.0000   0.4371      325\n",
      "0.297014 0.333149      3306456     14496796.0  -1.0000   0.0770      325\n",
      "0.328370 0.359726      6613380     28993596.0  -1.0000  -0.8834      325\n",
      "\n",
      "finished run\n",
      "number of examples = 9999999\n",
      "weighted example sum = 43555731.000000\n",
      "weighted label sum = -40333599.000000\n",
      "average loss = 0.350724\n",
      "best constant = -3.259454\n",
      "best constant's loss = 0.158253\n",
      "total feature number = 3249999675\n"
     ]
    }
   ],
   "source": [
    "! vw -d test.split.vw --ftrl -t -i lm.model --loss_function=logistic -p predictions.txt"
   ]
  },
  {
   "cell_type": "code",
   "execution_count": 20,
   "metadata": {
    "collapsed": false
   },
   "outputs": [],
   "source": [
    "y_pred = map(float, open('./predictions.txt', 'r').readlines())\n",
    "y_true = map(float, open('./y_test', 'r').readlines())"
   ]
  },
  {
   "cell_type": "code",
   "execution_count": 21,
   "metadata": {
    "collapsed": false
   },
   "outputs": [
    {
     "name": "stdout",
     "output_type": "stream",
     "text": [
      "9999999 9999999\n"
     ]
    }
   ],
   "source": [
    "print len(y_pred), len(y_true)"
   ]
  },
  {
   "cell_type": "code",
   "execution_count": 29,
   "metadata": {
    "collapsed": true
   },
   "outputs": [],
   "source": [
    "from sklearn.metrics import roc_curve, roc_auc_score"
   ]
  },
  {
   "cell_type": "code",
   "execution_count": 24,
   "metadata": {
    "collapsed": false
   },
   "outputs": [],
   "source": [
    "fpr, tpr, thresholds = roc_curve(y_true, y_pred)"
   ]
  },
  {
   "cell_type": "code",
   "execution_count": 30,
   "metadata": {
    "collapsed": false
   },
   "outputs": [],
   "source": [
    "roc_auc = roc_auc_score(y_true, y_pred)"
   ]
  },
  {
   "cell_type": "code",
   "execution_count": 32,
   "metadata": {
    "collapsed": false
   },
   "outputs": [
    {
     "name": "stdout",
     "output_type": "stream",
     "text": [
      "Populating the interactive namespace from numpy and matplotlib\n"
     ]
    }
   ],
   "source": [
    "%pylab inline"
   ]
  },
  {
   "cell_type": "code",
   "execution_count": 34,
   "metadata": {
    "collapsed": false
   },
   "outputs": [
    {
     "data": {
      "text/plain": [
       "<matplotlib.legend.Legend at 0x11944bfd0>"
      ]
     },
     "execution_count": 34,
     "metadata": {},
     "output_type": "execute_result"
    },
    {
     "data": {
      "image/png": "[encoded data removed]",
      "text/plain": [
       "<matplotlib.figure.Figure at 0x118ccf250>"
      ]
     },
     "metadata": {},
     "output_type": "display_data"
    }
   ],
   "source": [
    "plt.plot(fpr, tpr, label='ROC curve (area = %0.3f)' % roc_auc)\n",
    "plt.plot([0, 1], [0, 1], 'k--')  # random predictions curve\n",
    "plt.xlim([0.0, 1.0])\n",
    "plt.ylim([0.0, 1.0])\n",
    "plt.xlabel('False Positive Rate or (1 - Specifity)')\n",
    "plt.ylabel('True Positive Rate or (Sensitivity)')\n",
    "plt.title('Roc curve')\n",
    "plt.legend(loc=\"lower right\")"
   ]
  },
  {
   "cell_type": "code",
   "execution_count": 35,
   "metadata": {
    "collapsed": true
   },
   "outputs": [],
   "source": [
    "losss = [0.693147, 0.571287, 0.766104, 0.669030, 0.602868, 0.589184, 0.496034, 0.463791, 0.495888, 0.463125, 0.451685, 0.464525, 0.464936, 0.474145, 0.464003, 0.456674, 0.445918, 0.438978, 0.431879, 0.425513, 0.413515, 0.409382, 0.405557, 0.391744]"
   ]
  },
  {
   "cell_type": "code",
   "execution_count": 38,
   "metadata": {
    "collapsed": false
   },
   "outputs": [
    {
     "data": {
      "text/plain": [
       "[<matplotlib.lines.Line2D at 0x11be97bd0>]"
      ]
     },
     "execution_count": 38,
     "metadata": {},
     "output_type": "execute_result"
    },
    {
     "data": {
      "image/png": "[encoded data removed]",
      "text/plain": [
       "<matplotlib.figure.Figure at 0x11be97b90>"
      ]
     },
     "metadata": {},
     "output_type": "display_data"
    }
   ],
   "source": [
    "plt.xlabel('Iter')\n",
    "plt.ylabel('Loss')\n",
    "plt.title('Learning curve')\n",
    "plt.plot(range(len(losss)), losss)"
   ]
  },
  {
   "cell_type": "markdown",
   "metadata": {},
   "source": [
    "## Вопрос третий\n",
    "\n",
    "Как некоторую очень жадную эвристику можно делать случайный поиск: выбирать случайно некоторое количество фичей, над которым делать парные и тройные взаимодействия, считать качество на валидации, затем выбрать лучшие подвыборки и слить их в один сет.\n",
    "Из него в свою очередь сделать еще несколько случайных подвыборок и взять лучшую."
   ]
  }
 ],
 "metadata": {
  "kernelspec": {
   "display_name": "Python 2",
   "language": "python",
   "name": "python2"
  },
  "language_info": {
   "codemirror_mode": {
    "name": "ipython",
    "version": 2
   },
   "file_extension": ".py",
   "mimetype": "text/x-python",
   "name": "python",
   "nbconvert_exporter": "python",
   "pygments_lexer": "ipython2",
   "version": "2.7.13"
  }
 },
 "nbformat": 4,
 "nbformat_minor": 2
}
